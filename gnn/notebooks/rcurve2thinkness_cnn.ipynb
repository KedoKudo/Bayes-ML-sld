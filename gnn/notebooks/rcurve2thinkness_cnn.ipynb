{
 "cells": [
  {
   "attachments": {},
   "cell_type": "markdown",
   "metadata": {},
   "source": [
    "# Overview\n",
    "\n",
    "The objective of this notebook is to explore the possibility of using CNN to approximate the back projection from reflectivity curve (R-Q) to the SLD curve, which should provide the thickness of each layer.\n",
    "\n",
    "## Execution plan\n",
    "\n",
    "1. Use fixed layer structure with varied thickness to generate reflectivity curve as training data.\n",
    "2. Use the trained CNN to predict the thickness of each layer from reflectivity curve."
   ]
  },
  {
   "attachments": {},
   "cell_type": "markdown",
   "metadata": {},
   "source": [
    "## Generate training data"
   ]
  },
  {
   "cell_type": "code",
   "execution_count": 1,
   "metadata": {},
   "outputs": [],
   "source": [
    "import numpy as np\n",
    "import matplotlib.pyplot as plt\n",
    "from tqdm import tqdm\n",
    "\n",
    "from refl1d.names import (\n",
    "    Experiment,\n",
    "    SLD,\n",
    "    Slab,\n",
    "    QProbe,\n",
    "    Parameter,\n",
    ")"
   ]
  },
  {
   "attachments": {},
   "cell_type": "markdown",
   "metadata": {},
   "source": [
    "### Define the sample"
   ]
  },
  {
   "cell_type": "code",
   "execution_count": 2,
   "metadata": {},
   "outputs": [],
   "source": [
    "sample_layers = [\n",
    "    {\"sld\":2.07, \"isld\":0, \"thickness\":0, \"roughness\":11.1, \"name\":\"substrate\"},\n",
    "    {\"sld\":7.5, \"isld\":0, \"thickness\":25, \"roughness\":4, \"name\":\"bulk\"},\n",
    "    {\"sld\":5, \"isld\":0, \"thickness\":200, \"roughness\":15, \"name\":\"oxide\"},\n",
    "    {\"sld\":0, \"isld\":0, \"thickness\":0, \"roughness\":0, \"name\":\"air\"},\n",
    "]\n",
    "\n",
    "# build the sample\n",
    "sample = Slab(\n",
    "    material=SLD(\n",
    "        name=sample_layers[0][\"name\"],\n",
    "        rho=sample_layers[0][\"sld\"],\n",
    "        irho=sample_layers[0][\"isld\"],\n",
    "    ),\n",
    "    thickness=sample_layers[0][\"thickness\"],\n",
    "    interface=sample_layers[0][\"roughness\"],\n",
    ")\n",
    "\n",
    "for layer in sample_layers[1:]:\n",
    "    sample = sample | Slab(\n",
    "        material=SLD(\n",
    "            name=layer[\"name\"],\n",
    "            rho=layer[\"sld\"],\n",
    "            irho=layer[\"isld\"],\n",
    "        ),\n",
    "        thickness=layer[\"thickness\"],\n",
    "        interface=layer[\"roughness\"],\n",
    "    )\n"
   ]
  },
  {
   "attachments": {},
   "cell_type": "markdown",
   "metadata": {},
   "source": [
    "### Define the probe"
   ]
  },
  {
   "cell_type": "code",
   "execution_count": 3,
   "metadata": {},
   "outputs": [],
   "source": [
    "q_range = np.logspace(\n",
    "    np.log10(0.009),\n",
    "    np.log10(0.18),\n",
    "    num=150,\n",
    ")\n",
    "\n",
    "q_resolution = 0.025\n",
    "\n",
    "dq = q_resolution * q_range / 2.355\n",
    "\n",
    "zeros = np.zeros_like(q_range)\n",
    "\n",
    "probe = QProbe(q_range, dq, data=(zeros, zeros))\n",
    "probe.background = Parameter(value=0.0, name=\"background\")"
   ]
  },
  {
   "attachments": {},
   "cell_type": "markdown",
   "metadata": {},
   "source": [
    "### Define the experiment"
   ]
  },
  {
   "cell_type": "code",
   "execution_count": 4,
   "metadata": {},
   "outputs": [],
   "source": [
    "expt = Experiment(probe=probe, sample=sample)"
   ]
  },
  {
   "cell_type": "code",
   "execution_count": 5,
   "metadata": {},
   "outputs": [
    {
     "data": {
      "text/plain": [
       "[<matplotlib.lines.Line2D at 0x13f7d6fd0>]"
      ]
     },
     "execution_count": 5,
     "metadata": {},
     "output_type": "execute_result"
    },
    {
     "data": {
      "image/png": "[encoded data removed]",
      "text/plain": [
       "<Figure size 640x480 with 1 Axes>"
      ]
     },
     "metadata": {},
     "output_type": "display_data"
    }
   ],
   "source": [
    "# quick test\n",
    "q, r = expt.reflectivity()\n",
    "\n",
    "plt.plot(q, r, 'b')\n",
    "plt.yscale(\"log\")\n",
    "\n",
    "expt.sample[1].thickness.value = 50.0\n",
    "expt.update()\n",
    "q, r = expt.reflectivity()\n",
    "plt.plot(q, r, 'r')\n"
   ]
  },
  {
   "cell_type": "code",
   "execution_count": 6,
   "metadata": {},
   "outputs": [
    {
     "data": {
      "text/plain": [
       "(150,)"
      ]
     },
     "execution_count": 6,
     "metadata": {},
     "output_type": "execute_result"
    }
   ],
   "source": [
    "r.shape"
   ]
  },
  {
   "attachments": {},
   "cell_type": "markdown",
   "metadata": {},
   "source": [
    "### Prepare training and testing data\n",
    "\n",
    "Vary the thickness and roughness of bulk and oxide layer while keeping others fixed.\n",
    "\n",
    "- bulk: sample[1]\n",
    "  - thickness: [50, 500]\n",
    "  - roughness: [20, 50]\n",
    "- oxide: sample[2]\n",
    "  - thickness: range [50, 300]\n",
    "  - roughness: range [10, 150]\n"
   ]
  },
  {
   "cell_type": "code",
   "execution_count": 7,
   "metadata": {},
   "outputs": [
    {
     "data": {
      "text/plain": [
       "(100000, 4)"
      ]
     },
     "execution_count": 7,
     "metadata": {},
     "output_type": "execute_result"
    }
   ],
   "source": [
    "N_train = 80_000\n",
    "N_test = 20_000\n",
    "N_total = N_train + N_test\n",
    "\n",
    "bulk_thickness = np.random.uniform(50, 500, size=N_total)\n",
    "bulk_roughness = np.random.uniform(20, 50, size=N_total)\n",
    "oxide_thickness = np.random.uniform(50, 300, size=N_total)\n",
    "oxide_roughness = np.random.uniform(10, 150, size=N_total)\n",
    "\n",
    "# stack the parameters\n",
    "references = np.stack(\n",
    "    [\n",
    "        bulk_thickness,\n",
    "        bulk_roughness,\n",
    "        oxide_thickness,\n",
    "        oxide_roughness,\n",
    "    ],\n",
    "    axis=1,\n",
    ")\n",
    "\n",
    "references.shape"
   ]
  },
  {
   "cell_type": "code",
   "execution_count": 8,
   "metadata": {},
   "outputs": [
    {
     "name": "stderr",
     "output_type": "stream",
     "text": [
      "100%|██████████| 100000/100000 [00:08<00:00, 11214.91it/s]\n"
     ]
    }
   ],
   "source": [
    "r_curves = []\n",
    "for i in tqdm(range(N_total)):\n",
    "    expt.sample[1].thickness.value = bulk_thickness[i]\n",
    "    expt.sample[1].interface.value = bulk_roughness[i]\n",
    "    expt.sample[2].thickness.value = oxide_thickness[i]\n",
    "    expt.sample[2].interface.value = oxide_roughness[i]\n",
    "    expt.update()\n",
    "    q, r = expt.reflectivity()\n",
    "    r_curves.append(r)\n",
    "\n",
    "r_curves = np.array(r_curves)"
   ]
  },
  {
   "cell_type": "code",
   "execution_count": 9,
   "metadata": {},
   "outputs": [
    {
     "data": {
      "image/png": "[encoded data removed]",
      "text/plain": [
       "<Figure size 640x480 with 1 Axes>"
      ]
     },
     "metadata": {},
     "output_type": "display_data"
    }
   ],
   "source": [
    "# plot the first 10 r-curves\n",
    "for i in range(10):\n",
    "    plt.plot(q, r_curves[i])\n",
    "plt.yscale(\"log\")"
   ]
  },
  {
   "attachments": {},
   "cell_type": "markdown",
   "metadata": {},
   "source": [
    "## Design network"
   ]
  },
  {
   "cell_type": "code",
   "execution_count": 10,
   "metadata": {},
   "outputs": [],
   "source": [
    "import torch\n",
    "import torch.nn as nn\n",
    "import torch.nn.functional as F"
   ]
  },
  {
   "cell_type": "code",
   "execution_count": 11,
   "metadata": {},
   "outputs": [],
   "source": [
    "class ParamNet(nn.Module):\n",
    "\n",
    "    def __init__(self, *args, **kwargs) -> None:\n",
    "        super().__init__(*args, **kwargs)\n",
    "        self.fc1 = nn.Linear(150*150, 150*150*2)\n",
    "        self.fc2 = nn.Linear(150*150*2, 4)\n",
    "        self.relu = nn.ReLU()\n",
    "\n",
    "    def forward(self, x):\n",
    "        x = torch.outer(x, x).flatten()\n",
    "        x = self.relu(self.fc1(x))\n",
    "        x = self.fc2(x)\n",
    "        return x\n"
   ]
  },
  {
   "cell_type": "code",
   "execution_count": 12,
   "metadata": {},
   "outputs": [],
   "source": [
    "seeker = ParamNet()"
   ]
  },
  {
   "cell_type": "code",
   "execution_count": 13,
   "metadata": {},
   "outputs": [],
   "source": [
    "# covert to torch tensors\n",
    "data_train = torch.tensor(r_curves[:N_train], dtype=torch.float32)\n",
    "data_test = torch.tensor(r_curves[N_train:], dtype=torch.float32)\n",
    "\n",
    "y_train = torch.tensor(references[:N_train], dtype=torch.float32)\n",
    "y_test = torch.tensor(references[N_train:], dtype=torch.float32)"
   ]
  },
  {
   "cell_type": "code",
   "execution_count": 14,
   "metadata": {},
   "outputs": [
    {
     "data": {
      "text/plain": [
       "tensor([-0.0342, -0.0094,  0.0315, -0.0379], grad_fn=<AddBackward0>)"
      ]
     },
     "execution_count": 14,
     "metadata": {},
     "output_type": "execute_result"
    }
   ],
   "source": [
    "# quick test with a single r-curve\n",
    "seeker(data_train[0])"
   ]
  },
  {
   "attachments": {},
   "cell_type": "markdown",
   "metadata": {},
   "source": [
    "the model is too big to fix on a m1 pro GPU"
   ]
  },
  {
   "cell_type": "code",
   "execution_count": 17,
   "metadata": {},
   "outputs": [],
   "source": [
    "# move to m1's GPU\n",
    "mps_device = torch.device(\"mps\")\n",
    "\n",
    "seeker.to(mps_device)\n",
    "\n",
    "# move the data to the GPU\n",
    "data_train = data_train.to(mps_device)\n",
    "data_test = data_test.to(mps_device)\n",
    "\n",
    "y_train = y_train.to(mps_device)\n",
    "y_test = y_test.to(mps_device)"
   ]
  },
  {
   "cell_type": "code",
   "execution_count": 18,
   "metadata": {},
   "outputs": [
    {
     "data": {
      "text/plain": [
       "tensor([ 0.2109,  0.2030, -0.1426,  0.0045], device='mps:0',\n",
       "       grad_fn=<LinearBackward0>)"
      ]
     },
     "execution_count": 18,
     "metadata": {},
     "output_type": "execute_result"
    }
   ],
   "source": [
    "# quick test\n",
    "seeker(data_train[1])"
   ]
  },
  {
   "attachments": {},
   "cell_type": "markdown",
   "metadata": {},
   "source": [
    "## Training"
   ]
  },
  {
   "cell_type": "code",
   "execution_count": 15,
   "metadata": {},
   "outputs": [],
   "source": [
    "# loss function\n",
    "loss_fn = nn.L1Loss()\n",
    "\n",
    "# optimizer\n",
    "optimizer = torch.optim.Adam(seeker.parameters(), lr=1e-3)"
   ]
  },
  {
   "cell_type": "code",
   "execution_count": 16,
   "metadata": {},
   "outputs": [
    {
     "name": "stderr",
     "output_type": "stream",
     "text": [
      "  0%|          | 0/200 [00:00<?, ?it/s]"
     ]
    }
   ],
   "source": [
    "# training loop\n",
    "training_history = []\n",
    "testing_history = []\n",
    "\n",
    "for epoch in tqdm(range(200)):\n",
    "    # training\n",
    "    seeker.train()\n",
    "    training_loss = 0.0\n",
    "    for data, y in zip(data_train, y_train):\n",
    "        optimizer.zero_grad()\n",
    "        y_pred = seeker(data)\n",
    "        loss = loss_fn(y_pred, y)\n",
    "        loss.backward()\n",
    "        optimizer.step()\n",
    "        training_loss += loss.item()\n",
    "    training_loss /= len(data_train)\n",
    "    training_history.append(training_loss)\n",
    "\n",
    "    # testing\n",
    "    seeker.eval()\n",
    "    testing_loss = 0.0\n",
    "    with torch.no_grad():\n",
    "        for data, y in zip(data_test, y_test):\n",
    "            y_pred = seeker(data)\n",
    "            loss = loss_fn(y_pred, y_test)\n",
    "            testing_loss += loss.item()\n",
    "    testing_loss /= len(data_test)\n",
    "    testing_history.append(testing_loss)\n",
    "\n",
    "    # status update\n",
    "    # if epoch % 10 == 0:\n",
    "    print(f\"epoch: {epoch}, training loss: {training_loss}, testing loss: {testing_loss}\")"
   ]
  },
  {
   "cell_type": "code",
   "execution_count": null,
   "metadata": {},
   "outputs": [],
   "source": []
  },
  {
   "cell_type": "code",
   "execution_count": null,
   "metadata": {},
   "outputs": [],
   "source": []
  },
  {
   "cell_type": "code",
   "execution_count": null,
   "metadata": {},
   "outputs": [],
   "source": []
  },
  {
   "cell_type": "code",
   "execution_count": null,
   "metadata": {},
   "outputs": [],
   "source": []
  },
  {
   "attachments": {},
   "cell_type": "markdown",
   "metadata": {},
   "source": [
    "## Evaluation"
   ]
  },
  {
   "cell_type": "code",
   "execution_count": null,
   "metadata": {},
   "outputs": [],
   "source": []
  }
 ],
 "metadata": {
  "kernelspec": {
   "display_name": "Python 3",
   "language": "python",
   "name": "python3"
  },
  "language_info": {
   "codemirror_mode": {
    "name": "ipython",
    "version": 3
   },
   "file_extension": ".py",
   "mimetype": "text/x-python",
   "name": "python",
   "nbconvert_exporter": "python",
   "pygments_lexer": "ipython3",
   "version": "3.11.4"
  },
  "orig_nbformat": 4
 },
 "nbformat": 4,
 "nbformat_minor": 2
}
